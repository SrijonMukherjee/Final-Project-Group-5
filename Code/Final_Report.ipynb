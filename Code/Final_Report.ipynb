{
  "nbformat": 4,
  "nbformat_minor": 0,
  "metadata": {
    "colab": {
      "name": "Final Report.ipynb",
      "provenance": [],
      "collapsed_sections": []
    },
    "kernelspec": {
      "name": "python3",
      "display_name": "Python 3"
    },
    "language_info": {
      "name": "python"
    }
  },
  "cells": [
    {
      "cell_type": "code",
      "metadata": {
        "id": "UsAeF3icvYDy",
        "colab": {
          "base_uri": "https://localhost:8080/"
        },
        "outputId": "ac82e652-7674-4e00-a719-b6355c30ac4f"
      },
      "source": [
        "# Import the necessary libraries\n",
        "import pandas as pd\n",
        "import contractions\n",
        "import nltk\n",
        "from nltk.tokenize import word_tokenize\n",
        "nltk.download('punkt')\n",
        "import string\n",
        "from nltk.corpus import stopwords, wordnet\n",
        "nltk.download('stopwords')\n",
        "from nltk.stem import WordNetLemmatizer\n",
        "nltk.download('averaged_perceptron_tagger')\n",
        "nltk.download('wordnet')\n",
        "!pip install contractions"
      ],
      "execution_count": null,
      "outputs": [
        {
          "output_type": "stream",
          "text": [
            "[nltk_data] Downloading package punkt to /root/nltk_data...\n",
            "[nltk_data]   Package punkt is already up-to-date!\n",
            "[nltk_data] Downloading package stopwords to /root/nltk_data...\n",
            "[nltk_data]   Package stopwords is already up-to-date!\n"
          ],
          "name": "stdout"
        }
      ]
    },
    {
      "cell_type": "code",
      "metadata": {
        "id": "0ztPPlcZucDn"
      },
      "source": [
        "# Load the data\n",
        "df_train_labeled = pd.read_csv(\"labeledTrainData.tsv\", \n",
        "                              header=0, \n",
        "                              delimiter=\"\\t\", \n",
        "                              quoting=3)\n",
        "\n",
        "df_train_unlabeled = pd.read_csv(\"unlabeledTrainData.tsv\",\n",
        "                              header=0, \n",
        "                              delimiter=\"\\t\", \n",
        "                              quoting=3)\n",
        "\n",
        "df_test = pd.read_csv(\"testData.tsv\",\n",
        "                      header=0, \n",
        "                      delimiter=\"\\t\", \n",
        "                      quoting=3)"
      ],
      "execution_count": null,
      "outputs": []
    },
    {
      "cell_type": "code",
      "metadata": {
        "colab": {
          "base_uri": "https://localhost:8080/",
          "height": 206
        },
        "id": "1ELNQpnOS08j",
        "outputId": "a59ac97d-31c6-4314-c601-2ea1057ce9d1"
      },
      "source": [
        "# Read the data\n",
        "df_train_labeled.to_csv('df_train_labeled.tsv', sep = '\\t', index = False)\n",
        "pd.read_csv('df_train_labeled.tsv', sep = '\\t').head()"
      ],
      "execution_count": null,
      "outputs": [
        {
          "output_type": "execute_result",
          "data": {
            "text/html": [
              "<div>\n",
              "<style scoped>\n",
              "    .dataframe tbody tr th:only-of-type {\n",
              "        vertical-align: middle;\n",
              "    }\n",
              "\n",
              "    .dataframe tbody tr th {\n",
              "        vertical-align: top;\n",
              "    }\n",
              "\n",
              "    .dataframe thead th {\n",
              "        text-align: right;\n",
              "    }\n",
              "</style>\n",
              "<table border=\"1\" class=\"dataframe\">\n",
              "  <thead>\n",
              "    <tr style=\"text-align: right;\">\n",
              "      <th></th>\n",
              "      <th>id</th>\n",
              "      <th>sentiment</th>\n",
              "      <th>review</th>\n",
              "    </tr>\n",
              "  </thead>\n",
              "  <tbody>\n",
              "    <tr>\n",
              "      <th>0</th>\n",
              "      <td>\"5814_8\"</td>\n",
              "      <td>1</td>\n",
              "      <td>\"With all this stuff going down at the moment ...</td>\n",
              "    </tr>\n",
              "    <tr>\n",
              "      <th>1</th>\n",
              "      <td>\"2381_9\"</td>\n",
              "      <td>1</td>\n",
              "      <td>\"\\\"The Classic War of the Worlds\\\" by Timothy ...</td>\n",
              "    </tr>\n",
              "    <tr>\n",
              "      <th>2</th>\n",
              "      <td>\"7759_3\"</td>\n",
              "      <td>0</td>\n",
              "      <td>\"The film starts with a manager (Nicholas Bell...</td>\n",
              "    </tr>\n",
              "    <tr>\n",
              "      <th>3</th>\n",
              "      <td>\"3630_4\"</td>\n",
              "      <td>0</td>\n",
              "      <td>\"It must be assumed that those who praised thi...</td>\n",
              "    </tr>\n",
              "    <tr>\n",
              "      <th>4</th>\n",
              "      <td>\"9495_8\"</td>\n",
              "      <td>1</td>\n",
              "      <td>\"Superbly trashy and wondrously unpretentious ...</td>\n",
              "    </tr>\n",
              "  </tbody>\n",
              "</table>\n",
              "</div>"
            ],
            "text/plain": [
              "         id  sentiment                                             review\n",
              "0  \"5814_8\"          1  \"With all this stuff going down at the moment ...\n",
              "1  \"2381_9\"          1  \"\\\"The Classic War of the Worlds\\\" by Timothy ...\n",
              "2  \"7759_3\"          0  \"The film starts with a manager (Nicholas Bell...\n",
              "3  \"3630_4\"          0  \"It must be assumed that those who praised thi...\n",
              "4  \"9495_8\"          1  \"Superbly trashy and wondrously unpretentious ..."
            ]
          },
          "metadata": {
            "tags": []
          },
          "execution_count": 20
        }
      ]
    },
    {
      "cell_type": "code",
      "metadata": {
        "colab": {
          "base_uri": "https://localhost:8080/"
        },
        "id": "__OcfNSstf0a",
        "outputId": "a5378b4d-4257-4af1-946f-618e0f95564f"
      },
      "source": [
        "df_train_labeled.shape"
      ],
      "execution_count": null,
      "outputs": [
        {
          "output_type": "execute_result",
          "data": {
            "text/plain": [
              "(25000, 3)"
            ]
          },
          "metadata": {
            "tags": []
          },
          "execution_count": 10
        }
      ]
    },
    {
      "cell_type": "code",
      "metadata": {
        "colab": {
          "base_uri": "https://localhost:8080/"
        },
        "id": "Rnjt3SMAMvX1",
        "outputId": "914c3f6f-acb9-4de8-e2b9-1338b658b871"
      },
      "source": [
        "df_train_labeled['sentiment'].value_counts()"
      ],
      "execution_count": null,
      "outputs": [
        {
          "output_type": "execute_result",
          "data": {
            "text/plain": [
              "1    12500\n",
              "0    12500\n",
              "Name: sentiment, dtype: int64"
            ]
          },
          "metadata": {
            "tags": []
          },
          "execution_count": 11
        }
      ]
    },
    {
      "cell_type": "code",
      "metadata": {
        "id": "IMnPJM92kyNi"
      },
      "source": [
        "# Remove quotations from string\n",
        "df_train_labeled['review'] = df_train_labeled['review'].str.strip('\" \"')\n",
        "df_train_labeled.head()"
      ],
      "execution_count": null,
      "outputs": []
    },
    {
      "cell_type": "code",
      "metadata": {
        "id": "ifUrNhNZWRFD"
      },
      "source": [
        "# Expand contractions\n",
        "df_train_labeled['no_contract'] = df_train_labeled['review'].apply(lambda x: [contractions.fix(word) for word in x.split()])\n",
        "df_train_labeled.head()"
      ],
      "execution_count": null,
      "outputs": []
    },
    {
      "cell_type": "code",
      "metadata": {
        "id": "1B7l9_hmXdHg"
      },
      "source": [
        "# Convert the lists under the 'no_contract' column back to strings\n",
        "df_train_labeled['review_str'] = [' '.join(map(str, l)) for l in df_train_labeled['no_contract']]\n",
        "df_train_labeled.head()"
      ],
      "execution_count": null,
      "outputs": []
    },
    {
      "cell_type": "code",
      "metadata": {
        "id": "W7DPHeiQXc8f"
      },
      "source": [
        "# Apply the tokenizer to split each indivisual word into a token\n",
        "df_train_labeled['tokenized'] = df_train_labeled['review_str'].apply(word_tokenize)\n",
        "df_train_labeled.head()"
      ],
      "execution_count": null,
      "outputs": []
    },
    {
      "cell_type": "code",
      "metadata": {
        "id": "0MWCNOttj0-E"
      },
      "source": [
        "# Convert all characters to lowercase\n",
        "df_train_labeled['lower'] = df_train_labeled['tokenized'].apply(lambda x: [word.lower() for word in x])\n",
        "df_train_labeled.head()"
      ],
      "execution_count": null,
      "outputs": []
    },
    {
      "cell_type": "code",
      "metadata": {
        "id": "aqGem9UOj2Z3"
      },
      "source": [
        "# Remove punctuations from the corpus\n",
        "punc = string.punctuation\n",
        "df_train_labeled['no_punc'] = df_train_labeled['lower'].apply(lambda x: [word for word in x if word not in punc])\n",
        "df_train_labeled.head()"
      ],
      "execution_count": null,
      "outputs": []
    },
    {
      "cell_type": "code",
      "metadata": {
        "id": "RmdMVTEzkzAr"
      },
      "source": [
        "# Remove stopwords\n",
        "stop_words = set(stopwords.words('english'))\n",
        "df_train_labeled['stopwords_removed'] = df_train_labeled['no_punc'].apply(lambda x: [word for word in x if word not in stop_words])\n",
        "df_train_labeled.head()"
      ],
      "execution_count": null,
      "outputs": []
    },
    {
      "cell_type": "code",
      "metadata": {
        "id": "lUA2Znsuky84"
      },
      "source": [
        "# Apply parts of speech tags for each word\n",
        "df_train_labeled['pos_tags'] = df_train_labeled['stopwords_removed'].apply(nltk.tag.pos_tag)\n",
        "df_train_labeled.head()"
      ],
      "execution_count": null,
      "outputs": []
    },
    {
      "cell_type": "code",
      "metadata": {
        "id": "LqgVvVQUmAyY"
      },
      "source": [
        "# Convert parts of speech tags to wordnet's format\n",
        "def get_wordnet_pos(tag):\n",
        "    if tag.startswith('J'):\n",
        "        return wordnet.ADJ\n",
        "    elif tag.startswith('V'):\n",
        "        return wordnet.VERB\n",
        "    elif tag.startswith('N'):\n",
        "        return wordnet.NOUN\n",
        "    elif tag.startswith('R'):\n",
        "        return wordnet.ADV\n",
        "    else:\n",
        "        return wordnet.NOUN\n",
        "\n",
        "df_train_labeled['wordnet_pos'] = df_train_labeled['pos_tags'].apply(lambda x: [(word, get_wordnet_pos(pos_tag)) for (word, pos_tag) in x])\n",
        "df_train_labeled.head()"
      ],
      "execution_count": null,
      "outputs": []
    },
    {
      "cell_type": "code",
      "metadata": {
        "id": "6DczmY36m31N"
      },
      "source": [
        "# Apply nltk's word lemmatizer within the trusty list comprehension\n",
        "wnl = WordNetLemmatizer()\n",
        "df_train_labeled['lemmatized'] = df_train_labeled['wordnet_pos'].apply(lambda x: [wnl.lemmatize(word, tag) for word, tag in x])\n",
        "df_train_labeled.head()"
      ],
      "execution_count": null,
      "outputs": []
    },
    {
      "cell_type": "code",
      "metadata": {
        "id": "MsBPwPmb2gm_"
      },
      "source": [
        "# Drop unuseful columns\n",
        "df_train_labeled.drop(['no_contract', 'review_str', 'tokenized', 'lower', 'no_punc', 'stopwords_removed', 'pos_tags', 'wordnet_pos'], axis=1)"
      ],
      "execution_count": null,
      "outputs": []
    },
    {
      "cell_type": "code",
      "metadata": {
        "id": "9AqI2f2cj2Vq"
      },
      "source": [
        "# Save this work into a csv file\n",
        "df_train_labeled.to_csv('labeled_review_clean.csv')"
      ],
      "execution_count": null,
      "outputs": []
    }
  ]
}